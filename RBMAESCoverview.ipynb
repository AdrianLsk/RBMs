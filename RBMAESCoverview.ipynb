{
 "cells": [
  {
   "cell_type": "markdown",
   "metadata": {},
   "source": [
    "# Restricted Boltzman Machine model zoo"
   ]
  },
  {
   "cell_type": "markdown",
   "metadata": {},
   "source": [
    "* static RBM: \n",
    "    - binary-binary (bernoulli)\n",
    "    - binary-real:\n",
    "        1. truncated exponential for $x \\in [0,1)$\n",
    "        2. gaussian for $x \\in \\mathbb{R}$:\n",
    "            - covariance (cRBM)\n",
    "            - mean-covariance (mcRBM)\n",
    "            - product of Student's t (PoT)\n",
    "            - mean PoT (mPoT)\n",
    "            - spike-&-slab (ssRBM)\n",
    "            - $\\mu$-spike-&-slab ($\\mu$-ssRBM)\n",
    "            \n",
    "* sequential RBM:\n",
    "    - conditional - using a short memory of past visibible variables\n",
    "    - temporal - using a short memory of past hidden (or also visible) variables\n",
    "    - recurrent - using a RNN specification for past values \n",
    "\n",
    "* learning tasks:\n",
    "    - unsupervised (any RBM)\n",
    "    - supervised:\n",
    "        1. pre-training layers and finetuning with a classifier stacked on top\n",
    "            1. layer-wise\n",
    "            2. end-to-end (natural gradient methods)\n",
    "        2. classification (CRBM)\n",
    "    - semi-supervised - hybrid (HRBM)\n",
    "\n",
    "* spatial typography:\n",
    "    - dense\n",
    "    - convolutional\n",
    "\n",
    "* training:\n",
    "    - contrastive divergence (CD):\n",
    "        1. truncated k-step (CD-k)\n",
    "        2. persistent CD (PCD-k)\n",
    "            - fast PCD = http://videolectures.net/icml09_tieleman_ufw/\n",
    "    - other methods:  \n",
    "        http://jmlr.csail.mit.edu/proceedings/papers/v9/marlin10a/marlin10a.pdf  \n",
    "        https://docs.google.com/document/d/1J_Mhf69WJ89DGszxhQks-vr2vKidJ9xpVJZM_wKt8O8/edit\n",
    "        1. approximate maximum likelihood\n",
    "        2. maximum pseudo-likelihood\n",
    "        3. ratio-matching\n",
    "        4. score-matching"
   ]
  },
  {
   "cell_type": "markdown",
   "metadata": {},
   "source": [
    "### Score Matching"
   ]
  },
  {
   "cell_type": "markdown",
   "metadata": {},
   "source": [
    "* Explicit (SM)\n",
    "* Implicit (SM)\n",
    "* Generalized (SM)"
   ]
  },
  {
   "cell_type": "markdown",
   "metadata": {},
   "source": [
    "### Hybrid Monte Carlo"
   ]
  },
  {
   "cell_type": "markdown",
   "metadata": {},
   "source": [
    "* Leap-Frog"
   ]
  },
  {
   "cell_type": "markdown",
   "metadata": {},
   "source": [
    "# AutoEncoder model zoo"
   ]
  },
  {
   "cell_type": "markdown",
   "metadata": {},
   "source": [
    "* types:\n",
    "    - basic AE\n",
    "    - denoising (DAE)\n",
    "    - contractive (CAE)\n",
    "    - variational (VAE) - generative/probabilistic\n",
    "    - generalized (GAE)\n",
    "\n",
    "* learning tasks:\n",
    "    - unsupervised (any AE)\n",
    "    - supervised:\n",
    "        1. pre-training layers and finetuning with a classifier stacked on top\n",
    "            1. layer-wise\n",
    "            2. end-to-end (natural gradient methods)\n",
    "        2. manifold tangent classifier (MTC)\n",
    "    - semi-supervised:\n",
    "        1. ladder networks\n",
    "* AE structure:\n",
    "    1. encoder\n",
    "    2. decoder"
   ]
  },
  {
   "cell_type": "markdown",
   "metadata": {},
   "source": [
    "# Neural AutoRegressive Density Estimator"
   ]
  },
  {
   "cell_type": "markdown",
   "metadata": {},
   "source": [
    "- types:\n",
    "    1. binary (NADE)\n",
    "    2. real (RNADE)"
   ]
  },
  {
   "cell_type": "markdown",
   "metadata": {},
   "source": [
    "# Sparce Coding model zoo"
   ]
  }
 ],
 "metadata": {
  "kernelspec": {
   "display_name": "Python 2",
   "language": "python",
   "name": "python2"
  },
  "language_info": {
   "codemirror_mode": {
    "name": "ipython",
    "version": 2
   },
   "file_extension": ".py",
   "mimetype": "text/x-python",
   "name": "python",
   "nbconvert_exporter": "python",
   "pygments_lexer": "ipython2",
   "version": "2.7.6"
  }
 },
 "nbformat": 4,
 "nbformat_minor": 0
}
