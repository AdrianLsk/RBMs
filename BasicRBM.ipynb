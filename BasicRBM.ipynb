{
 "cells": [
  {
   "cell_type": "code",
   "execution_count": 15,
   "metadata": {
    "collapsed": false
   },
   "outputs": [],
   "source": [
    "import numpy as np\n",
    "from theano import shared, function, scan, tensor as T"
   ]
  },
  {
   "cell_type": "code",
   "execution_count": 9,
   "metadata": {
    "collapsed": true
   },
   "outputs": [],
   "source": [
    "batch_size = 20\n",
    "num_vis = 15\n",
    "num_hid = 10"
   ]
  },
  {
   "cell_type": "markdown",
   "metadata": {},
   "source": [
    "## (Bernoulli) Restricted Bolztman Machine (RBM)"
   ]
  },
  {
   "cell_type": "markdown",
   "metadata": {},
   "source": [
    "* binary valued with $v \\in \\{0,1\\}$"
   ]
  },
  {
   "cell_type": "markdown",
   "metadata": {},
   "source": [
    "* wake (positive) phase - visible units clamped\n",
    "* sleep (negative) phase - unclamped units"
   ]
  },
  {
   "cell_type": "code",
   "execution_count": 10,
   "metadata": {
    "collapsed": true
   },
   "outputs": [],
   "source": [
    "# parameters\n",
    "W = shared(np.random.rand(num_vis, num_hid), allow_downcast=True)\n",
    "b_v = shared(np.random.rand(num_vis,), allow_downcast=True)\n",
    "b_h = shared(np.random.rand(num_hid,), allow_downcast=True)"
   ]
  },
  {
   "cell_type": "code",
   "execution_count": 156,
   "metadata": {
    "collapsed": false
   },
   "outputs": [],
   "source": [
    "v = T.fmatrix('v') # (batch_size, num_vis)\n",
    "h = T.fmatrix('h') # (batch_size, num_hid)"
   ]
  },
  {
   "cell_type": "code",
   "execution_count": 90,
   "metadata": {
    "collapsed": true
   },
   "outputs": [],
   "source": [
    "def sample_h_given_v(self, v):\n",
    "    \"\"\"\n",
    "    v ... visible unit of shape (batch_size, num_vis)\n",
    "    h ... hidden unit of shape (batch_size, num_hid)\n",
    "    sampling h ~ p(h_i=1|v) = sigm( v^T W_{i} + b^h_i)\n",
    "    \"\"\"\n",
    "    vW = T.dot(v, self.W) # (batch_size, num_hid)\n",
    "    h_pre = vW + self.b_h \n",
    "    h_mean = T.nnet.sigmoid(h_pre)\n",
    "    h_samp = self.srng.binomial(size=h_mean.shape, n=1, p=h_mean,\n",
    "                                dtype=theano.config.floatX)\n",
    "    return [h_pre, h_mean, h_samp] # 3x(batch_size, num_hid)\n",
    "\n",
    "def sample_v_given_s_h(self, s, h):\n",
    "    \"\"\"\n",
    "    v ... visible of shape (batch_size, num_vis)\n",
    "    h ... spike hidden of shape (batch_size, num_vis)\n",
    "    sampling v ~ p(v_j=1|h) = sigm(W^T_{j} h^T + b_j)\n",
    "    \"\"\"\n",
    "    Wh = T.dot(h, self.W.T) # (batch_size, num_vis)\n",
    "    v_pre = Wh + self.b_v\n",
    "    v_mean = T.nnet.sigmoid(v_pre)\n",
    "    v_samp = self.srng.binomial(size=h_mean.shape, n=1, p=h_mean,\n",
    "                                dtype=theano.config.floatX)\n",
    "    return [v_pre, v_mean, v_samp] # 3x(batch_size, num_vis)"
   ]
  },
  {
   "cell_type": "markdown",
   "metadata": {},
   "source": [
    "Energy function:"
   ]
  },
  {
   "cell_type": "markdown",
   "metadata": {},
   "source": [
    "$$E(v,h) = - v^T W h - b_h^T h - b_v^T v$$"
   ]
  },
  {
   "cell_type": "markdown",
   "metadata": {},
   "source": [
    "$$p(v, h) \\propto \\exp\\left(- E(v, h)\\right)$$  "
   ]
  },
  {
   "cell_type": "markdown",
   "metadata": {},
   "source": [
    "$$ p(v) = \\sum_h p(v,h) = \\sum_h\\frac{\\exp(−E(v,h))}{Z}$$"
   ]
  },
  {
   "cell_type": "markdown",
   "metadata": {},
   "source": [
    "Free energy: "
   ]
  },
  {
   "cell_type": "markdown",
   "metadata": {},
   "source": [
    "$$ F(v) = - \\log(p(v)) \\\\  \n",
    "= - \\sum_{i=1}^N \\log \\left (1 + \\exp\\left(v^T W_i + {b_h}_i \\right) \\right) - b^T_v v - logZ\\\\\n",
    "= - \\sum_{i=1}^N softplus \\left (v^T W_i + b_i \\right) - b^T_v v - logZ $$"
   ]
  },
  {
   "cell_type": "code",
   "execution_count": 2,
   "metadata": {
    "collapsed": true
   },
   "outputs": [],
   "source": [
    "def free_energy_spike_n_slab(self, v):\n",
    "    fe_vis_term = - T.dot(v, self.b_v) # (batch_size, num_vis) x (num_vis,) = (batch_size,)\n",
    "    fe_hid_pre = T.dot(v, self.W) + self.b_h # (batch_size, num_hid)\n",
    "    fe_hid_term = - T.nnet.softplus(fe_hid_pre).sum(axis=1) # (batch_size,...)\n",
    "    return fe_vis_term + fe_hid_term"
   ]
  },
  {
   "cell_type": "markdown",
   "metadata": {},
   "source": [
    "## Truncated Exponential RBM"
   ]
  },
  {
   "cell_type": "markdown",
   "metadata": {},
   "source": [
    "* real-valued with $v \\in [0, K], K < \\infty$"
   ]
  },
  {
   "cell_type": "code",
   "execution_count": 4,
   "metadata": {
    "collapsed": true
   },
   "outputs": [],
   "source": [
    "def sample_h_given_v(self, v):\n",
    "    \"\"\"\n",
    "    v ... visible unit of shape (batch_size, num_vis)\n",
    "    h ... hidden unit of shape (batch_size, num_hid)\n",
    "    sampling h ~ p(h_i=1|v) = sigm( v^T W_{i} + b^h_i)\n",
    "    \"\"\"\n",
    "    vW = T.dot(v, self.W) # (batch_size, num_hid)\n",
    "    h_pre = vW + self.b_h \n",
    "    h_mean = T.nnet.sigmoid(h_pre)\n",
    "    h_samp = self.srng.binomial(size=h_mean.shape, n=1, p=h_mean,\n",
    "                                dtype=theano.config.floatX)\n",
    "    return [h_pre, h_mean, h_samp] # 3x(batch_size, num_hid)\n",
    "\n",
    "def sample_v_given_s_h(self, s, h):\n",
    "    \"\"\"\n",
    "    v ... visible of shape (batch_size, num_vis)\n",
    "    h ... spike hidden of shape (batch_size, num_vis)\n",
    "    sampling v ~ p(v_j=1|h) = sigm(W^T_{j} h^T + b_j)\n",
    "    \"\"\"\n",
    "    Wh = T.dot(h, self.W.T) # (batch_size, num_vis)\n",
    "    v_pre = Wh + self.b_v\n",
    "    v_samp = v_mean = v_pre\n",
    "    return [v_pre, v_mean, v_samp] # 3x(batch_size, num_vis)"
   ]
  },
  {
   "cell_type": "code",
   "execution_count": null,
   "metadata": {
    "collapsed": true
   },
   "outputs": [],
   "source": [
    "def free_energy_spike_n_slab(self, v):\n",
    "    fe_vis_term = 0.5 * T.sum((v - self.b_v)**2, axis=1) # (batch_size,)\n",
    "    fe_hid_pre = T.dot(v, self.W) + self.b_h # (batch_size, num_hid)\n",
    "    fe_hid_term = - T.nnet.softplus(fe_hid_pre).sum(axis=1) # (batch_size,...)\n",
    "    return fe_vis_term + fe_hid_term"
   ]
  },
  {
   "cell_type": "markdown",
   "metadata": {},
   "source": [
    "## Gaussian RBM (GRBM)"
   ]
  },
  {
   "cell_type": "markdown",
   "metadata": {},
   "source": [
    "* real-valued with $v \\in \\mathbb{R}$"
   ]
  },
  {
   "cell_type": "code",
   "execution_count": 6,
   "metadata": {
    "collapsed": true
   },
   "outputs": [],
   "source": [
    "def sample_h_given_v(self, v):\n",
    "    \"\"\"\n",
    "    v ... visible unit of shape (batch_size, num_vis)\n",
    "    h ... hidden unit of shape (batch_size, num_hid)\n",
    "    sampling h ~ p(h_i=1|v) = sigm( v^T W_{i} + b^h_i)\n",
    "    \"\"\"\n",
    "    vW = T.dot(v, self.W) # (batch_size, num_hid)\n",
    "    h_pre = vW + self.b_h \n",
    "    h_mean = T.nnet.sigmoid(h_pre)\n",
    "    h_samp = self.srng.binomial(size=h_mean.shape, n=1, p=h_mean,\n",
    "                                dtype=theano.config.floatX)\n",
    "    return [h_pre, h_mean, h_samp] # 3x(batch_size, num_hid)\n",
    "\n",
    "def sample_v_given_h(self, h):\n",
    "    \"\"\"\n",
    "    v ... visible of shape (batch_size, num_vis)\n",
    "    h ... spike hidden of shape (batch_size, num_vis)\n",
    "    sampling v ~ p(v_j=1|h) = sigm(W^T_{j} h^T + b_j)\n",
    "    \"\"\"\n",
    "    Wh = T.dot(h, self.W.T) # (batch_size, num_vis)\n",
    "    v_pre = Wh + self.b_v\n",
    "    v_samp = v_mean = v_pre\n",
    "    return [v_pre, v_mean, v_samp] # 3x(batch_size, num_vis)"
   ]
  },
  {
   "cell_type": "code",
   "execution_count": 5,
   "metadata": {
    "collapsed": true
   },
   "outputs": [],
   "source": [
    "def free_energy_spike_n_slab(self, v):\n",
    "    fe_vis_term = 0.5 * T.sum((v - self.b_v)**2, axis=1) # (batch_size,)\n",
    "    fe_hid_pre = T.dot(v, self.W) + self.b_h # (batch_size, num_hid)\n",
    "    fe_hid_term = - T.nnet.softplus(fe_hid_pre).sum(axis=1) # (batch_size,...)\n",
    "    return fe_vis_term + fe_hid_term"
   ]
  }
 ],
 "metadata": {
  "kernelspec": {
   "display_name": "Python 2",
   "language": "python",
   "name": "python2"
  },
  "language_info": {
   "codemirror_mode": {
    "name": "ipython",
    "version": 2
   },
   "file_extension": ".py",
   "mimetype": "text/x-python",
   "name": "python",
   "nbconvert_exporter": "python",
   "pygments_lexer": "ipython2",
   "version": "2.7.6"
  }
 },
 "nbformat": 4,
 "nbformat_minor": 0
}
