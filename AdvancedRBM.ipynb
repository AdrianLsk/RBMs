{
 "cells": [
  {
   "cell_type": "markdown",
   "metadata": {},
   "source": [
    "## ReLU Units  \n",
    "Stepped sigmoid units (SSU) for binomial units which represent N separate copies of a binary unit sharing the same bias and weights:\n",
    "$$ \\sum\\limits^N_{i=1} σ(x − i + 0.5) \\rightarrow \\log(1 + e^x), \\text{ as } N \\rightarrow \\infty$$\n",
    "Extension to infinite number of copies gives the softplus unit:\n",
    "$$h \\sim \\log(1 + e^x)=softplus(x)$$ for $x = v^T W + b$, where softplus can be approximated by a Noisy ReLU (NReLU) $$max(0, x + N(0, \\sigma(x))$$ or ReLU $$max(0,x)$$  \n",
    "For only N copies, the softplus becomes $$\\log(1 + e^{x}) - \\log(1 + e^{x-N})$$"
   ]
  },
  {
   "cell_type": "code",
   "execution_count": 8,
   "metadata": {
    "collapsed": false
   },
   "outputs": [
    {
     "data": {
      "text/plain": [
       "[<matplotlib.lines.Line2D at 0x7f8f6b8dd3d0>]"
      ]
     },
     "execution_count": 8,
     "metadata": {},
     "output_type": "execute_result"
    },
    {
     "data": {
      "image/png": "[encoded data removed]",
      "text/plain": [
       "<matplotlib.figure.Figure at 0x7f8f56c98e10>"
      ]
     },
     "metadata": {},
     "output_type": "display_data"
    }
   ],
   "source": [
    "import numpy as np\n",
    "import matplotlib.pyplot as plt\n",
    "%matplotlib inline\n",
    "\n",
    "x = np.arange(-10, 11)\n",
    "plt.plot(x, np.log(1 + np.exp(x)), 'y', label='softplus')\n",
    "plt.plot(x, np.log(1 + np.exp(x)) - np.log(1 + np.exp(x-len(x))), 'b', label='softplus')\n",
    "plt.plot(x, np.maximum(0, x), 'r', label='ReLU')\n",
    "plt.plot(x, np.maximum(0, x + np.random.randn(21)*np.std(x)), 'g', label='NReLU')"
   ]
  },
  {
   "cell_type": "markdown",
   "metadata": {},
   "source": [
    "References:  \n",
    "http://www.cs.toronto.edu/~fritz/absps/reluICML.pdf"
   ]
  },
  {
   "cell_type": "code",
   "execution_count": 301,
   "metadata": {
    "collapsed": false
   },
   "outputs": [],
   "source": [
    "import numpy as np\n",
    "from theano import shared, function, tensor as T"
   ]
  },
  {
   "cell_type": "code",
   "execution_count": 304,
   "metadata": {
    "collapsed": true
   },
   "outputs": [],
   "source": [
    "batch_size = 20\n",
    "num_vis = 15\n",
    "num_hid = 5\n",
    "num_slab = 10"
   ]
  },
  {
   "cell_type": "markdown",
   "metadata": {},
   "source": [
    "## Spike-&-Slab RBM (ssRBM)"
   ]
  },
  {
   "cell_type": "markdown",
   "metadata": {},
   "source": [
    "Parameters"
   ]
  },
  {
   "cell_type": "code",
   "execution_count": 305,
   "metadata": {
    "collapsed": false
   },
   "outputs": [],
   "source": [
    "v = T.fmatrix('v') # (batch_size, num_vis)\n",
    "h = T.fmatrix('h') # (batch_size, num_hid)\n",
    "s = T.fmatrix('s') # (batch_size, num_hid, num_slab)\n",
    "\n",
    "W = shared(np.random.rand(num_vis, num_hid, num_slab), allow_downcast=True)\n",
    "# diagonal matrices in form of vector, use T.linalg./np.diag for full matrix\n",
    "Lambda = shared(np.random.rand(num_vis), allow_downcast=True)\n",
    "alpha = shared(np.random.rand(num_hid, num_slab), allow_downcast=True)"
   ]
  },
  {
   "cell_type": "markdown",
   "metadata": {},
   "source": [
    "Energy function:  \n",
    "$$E(v, s, h) = {1 \\over 2} v^T \\Lambda v - \\sum^N_{i=1} \\left(v^T W_i s_i h_i - {1 \\over 2} s_i^T \\alpha_i s_i + b_i h_i \\right)$$"
   ]
  },
  {
   "cell_type": "markdown",
   "metadata": {},
   "source": [
    "Visible distribution:  \n",
    "$$p(v, s, h) \\propto \\exp\\left(- E(v, s, h)\\right)$$  \n",
    "$$p(v) \\propto \\sum_{h \\in \\{0,1\\}} \\int_{-\\infty}^\\infty \\exp\\left(- E(v, s, h)\\right) \\mathrm{d}s \\\\\n",
    "= \\int_{-\\infty}^\\infty \\exp\\left( - {1 \\over 2} v^T \\Lambda v \\right) \\prod_{i=1}^N \\sum_{h_i \\in \\{0,1\\}} \\exp\\left(v^T W_i s_i h_i - {1 \\over 2} s_i^T \\alpha_i s_i + b_i h_i \\right) \\mathrm{d}s \\\\  \n",
    "= \\exp\\left( - {1 \\over 2} v^T \\Lambda v \\right) \\prod_{i=1}^N \\sum_{h_i \\in \\{0,1\\}} \\exp\\left( b_i h_i \\right) \\int_{-\\infty}^\\infty \\exp\\left(v^T W_i s_i h_i - {1 \\over 2} s_i^T \\alpha_i s_i \\right) \\mathrm{d}s \\\\ \n",
    "= \\exp\\left( - {1 \\over 2} v^T \\Lambda v \\right) \\prod_{i=1}^N \\sum_{h_i \\in \\{0,1\\}} \\exp\\left( b_i h_i \\right) \\int_{-\\infty}^\\infty \\exp\\left({1 \\over 2} \\left|\\left| v^T W_i h_i \\alpha_i^{-{1 \\over 2}} \\right|\\right|^2\\right) \\exp\\left( - {1 \\over 2} \\left|\\left| x_i - v^T W_i h_i \\alpha_i^{-{1 \\over 2}} \\right|\\right|^2 \\right) \\mathrm{d}s \\\\ \n",
    "= \\exp\\left( - {1 \\over 2} v^T \\Lambda v \\right) \\prod_{i=1}^N \\sum_{h_i \\in \\{0,1\\}}\\exp\\left({1 \\over 2} \\left|\\left| v^T W_i h_i \\alpha_i^{-{1 \\over 2}} \\right|\\right|^2 + b_i h_i \\right) (2 \\pi)^{{K \\over 2}} det (\\alpha_i^{-{1 \\over 2}}) \\\\  \n",
    "= \\exp\\left( - {1 \\over 2} v^T \\Lambda v \\right) \\prod_{i=1}^N \\left[1 + \\log\\left({1 \\over 2} v^T W_i \\alpha_i^{-1} W_i^T v + b_i \\right) \\right] \\prod_{i=1}^N \\prod_{j=1}^K \\left(2 \\pi \\alpha_{i, jj}^{-1} \\right)^{{1 \\over 2}}$$"
   ]
  },
  {
   "cell_type": "markdown",
   "metadata": {},
   "source": [
    "Conditionals:\n",
    "$$ p(h_i=1 | v) = \\sigma\\left({1 \\over 2} v^T W_i \\alpha_i^{-1} W_i^Tv + b_i \\right) $$\n",
    "$$ p(s | v, h) = \\prod_{i=1}^N \\mathcal{N} \\left( h_i \\alpha_i^{-1} W_i^Tv, \\alpha_i^{-1} \\right) $$\n",
    "$$ p(v | s, h) = \\mathcal{N} \\left( \\Lambda^{-1} \\sum_{i=1}^N W_i s_i h_i, \\Lambda^{-1} \\right)$$"
   ]
  },
  {
   "cell_type": "code",
   "execution_count": 9,
   "metadata": {
    "collapsed": true
   },
   "outputs": [],
   "source": [
    "def sample_h_given_v(self, v):\n",
    "    \"\"\"\n",
    "    v ... visible of shape (batch_size, num_vis {D})\n",
    "    h ... spike hidden of shape (batch_size, num_hid {N}, spike_dim {1}) => (batch_size, num_hid {N})\n",
    "    sampling h ~ p(h_i=1|v) = sigm(0.5 v^TW_{i}\\alpha_i^{-1}W_{i}^Tv + b_i)\n",
    "    \"\"\"\n",
    "    vW = T.tensordot(v, self.W, axes=([1],[0])) # (batch_size, num_hid, num_slab)\n",
    "    h_pre = 0.5 * T.sum(vW ** 2 / self.alpha.dimshuffle('x', 0, 1), axis=-1) + self.b # (batch_size, num_hid)\n",
    "    h_mean = T.nnet.sigmoid(h_pre)\n",
    "    h_samp = self.srng.binomial(size=h_mean.shape, n=1, p=h_mean,\n",
    "                                dtype=theano.config.floatX)\n",
    "    return [h_pre, h_mean, h_samp]\n",
    "\n",
    "def sample_s_given_v_h(self, v, h):\n",
    "    \"\"\"\n",
    "    v ... visible of shape (batch_size, num_vis {D})\n",
    "    h ... spike hidden of shape (batch_size, num_hid {N}, spike_dim {1}) => (batch_size, num_hid {N})\n",
    "    s ... slab hidden of shape (batch_size, num_hid {N}, slab_dim {K})\n",
    "    sampling s ~ p(s|v,h) = \\Prod_{i=1}^N N(h_i \\alpha_i^{-1}W^T_iv, \\alpha_i^{-1})\n",
    "    \"\"\"\n",
    "    vW = T.tensordot(v, self.W, axes=([1],[0])) # (batch_size, num_hid, num_slab)\n",
    "    s_var = self.alpha.dimshuffle('x', 0, 1)\n",
    "    s_mean = s_pre = (h.dimshuffle(0, 1, 'x') / s_var) *  vW\n",
    "    samp = self.srng.normal(size=s_mean.shape, dtype=theano.config.floatX) # mean-field approximation\n",
    "    s_samp = samp / T.sqrt(s_var) + s_mean\n",
    "    return [s_pre, s_mean, s_samp]\n",
    "\n",
    "def sample_v_given_s_h(self, s, h):\n",
    "    \"\"\"\n",
    "    v ... visible of shape (batch_size, num_vis {D})\n",
    "    h ... spike hidden of shape (batch_size, num_hid {N}, spike_dim {1}) => (batch_size, num_hid {N})\n",
    "    s ... slab hidden of shape (batch_size, num_hid {N}, slab_dim {K})\n",
    "    sampling s ~ p(s|v,h) = \\Prod_{i=1}^N N(h_i \\alpha_i^{-1}W^T_iv, \\alpha_i^{-1})\n",
    "    \"\"\"\n",
    "    # hs ~ (batch_size, num_hid, 'x') * (batch_size, num_hid, slab_dim) = (batch_size, num_hid, num_slab)\n",
    "    # v_pre ~ (batch_size, 'x', num_hid, num_slab) * ('x', num_vis, num_hid, num_slab) = (batch_size, num_vis, num_hid, num_slab)\n",
    "    Wsh = T.tensordot(h[:,:,None] * s, self.W, axes=([1,2], [1,2])) # (batch_size, num_vis) T.sum(hs[:,None] * self.W[None], axis=(2,3))\n",
    "    v_var = self.Lambda\n",
    "    v_mean = v_pre = Wsh / v_var # (batch_size, num_vis) / diag(num_vis,) = (batch_size, num_vis)\n",
    "    samp = self.srng.normal(size=v_mean.shape, dtype=theano.config.floatX)\n",
    "    v_samp = samp / T.sqrt(s_var) + v_mean\n",
    "    return [v_pre, v_mean, v_samp]"
   ]
  },
  {
   "cell_type": "markdown",
   "metadata": {},
   "source": [
    "Free energy:\n",
    "$$ F(v) = - \\log(p(v)) \\\\  \n",
    "\\propto {1 \\over 2} v^T \\Lambda v - \\sum_{i=1}^N \\log \\left (1 + \\exp\\left({1 \\over 2} v^T W_i \\alpha_i^{-1} W_i^T v + b_i \\right) \\right) - {1 \\over 2} \\sum_{i=1}^N \\sum_{j=1}^K \\log (2 \\pi \\alpha_{i, jj}^{-1}) + \\log Z \\\\\n",
    "= {1 \\over 2} v^T \\Lambda v - \\sum_{i=1}^N softplus \\left ({1 \\over 2} v^T W_i \\alpha_i^{-1} W_i^T v + b_i \\right) - {1 \\over 2} \\sum_{i=1}^N \\sum_{j=1}^K \\log (2 \\pi \\alpha_{i, jj}^{-1}) + \\log Z$$"
   ]
  },
  {
   "cell_type": "code",
   "execution_count": 10,
   "metadata": {
    "collapsed": true
   },
   "outputs": [],
   "source": [
    "def free_energy_spike_n_slab(self, v):\n",
    "    fe_vis_term = 0.5 * T.dot(v ** 2, self.Lambda) # T.sum((v ** 2) * self.L, axis=-1) # (batch_size, num_vis) x (num_vis,) = (batch_size,)\n",
    "    fe_vW_sqr = T.tensordot(v, self.W, axes=([1],[0])) ** 2 # (batch_size, num_hid, num_slab)\n",
    "    fe_hid_pre = 0.5 * T.sum(vW_sqr / self.alpha[None], axis=-1) + self.b\n",
    "    \n",
    "    # T.log(1 + T.exp(fe_hid_pre)).sum(axis=-1)\n",
    "    fe_hid_term = T.nnet.softplus(fe_hid_pre).sum(axis=1) # (batch_size,...)\n",
    "    \n",
    "    const_term = 0.5 * T.log(2 * np.pi * self.alpha).sum() # sum over num_hid and num_slab (diagonals)\n",
    "    return fe_vis_term - fe_hid_term - const_term"
   ]
  },
  {
   "cell_type": "markdown",
   "metadata": {},
   "source": [
    "## $\\mu$-Spike-&-Slab RBM ($\\mu$-ssRBM)"
   ]
  },
  {
   "cell_type": "code",
   "execution_count": null,
   "metadata": {
    "collapsed": true
   },
   "outputs": [],
   "source": [
    "v = T.fmatrix('v') # (batch_size, num_vis)\n",
    "h = T.fmatrix('h') # (batch_size, num_hid)\n",
    "s = T.fmatrix('s') # (batch_size, num_hid, num_slab)\n",
    "\n",
    "W = shared(np.random.rand(num_vis, num_hid, num_slab), allow_downcast=True)\n",
    "# diagonal matrices in form of vector, use T.linalg./np.diag for full matrix\n",
    "Lambda = shared(np.random.rand(num_vis), allow_downcast=True)\n",
    "alpha = shared(np.random.rand(num_hid, num_slab), allow_downcast=True)\n",
    "\n",
    "Phi = shared(np.random.rand(num_hid, num_vis), allow_downcast=True) # (num_hid, num_vis) -> diag in num_vis\n",
    "mu = shared(np.random.rand(num_hid, num_slab), allow_downcast=True) # (num_hid, num_slab)"
   ]
  },
  {
   "cell_type": "markdown",
   "metadata": {},
   "source": [
    "Energy function:  \n",
    "$$E(v, s, h) = {1 \\over 2} v^T \\left( \\Lambda + \\sum_{i=1}^N \\Phi_i h_i \\right) v - \\sum^N_{i=1} \\left(v^T W_i s_i h_i - {1 \\over 2} s_i^T \\alpha_i s_i + b_i h_i \\right) - \\sum_{i=1}^N  \\mu_i^T \\alpha_i s_i h_i - \\sum_{i=1}^N \\mu_i^T \\alpha_i \\mu_i h_i$$"
   ]
  },
  {
   "cell_type": "markdown",
   "metadata": {},
   "source": [
    "Visible distribution:  \n",
    "$$p(v, s, h) \\propto \\exp\\left(- E(v, s, h)\\right)$$  \n",
    "Following above derivation:  \n",
    "$$p(v) \\propto \\sum_{h \\in \\{0,1\\}} \\int_{-\\infty}^\\infty \\exp\\left(- E(v, s, h)\\right) \\mathrm{d}s \\\\\n",
    "= \\exp\\left( - {1 \\over 2} v^T \\Lambda v \\right) \\prod_{i=1}^N \\left[1 + \\log\\left(-{1 \\over 2} v^T C_{v|h_i}^{-1} v + v^T W_i \\mu_i + b_i \\right) \\right] \\prod_{i=1}^N \\prod_{j=1}^K \\left(2 \\pi \\alpha_{i, jj}^{-1} \\right)^{{1 \\over 2}}$$"
   ]
  },
  {
   "cell_type": "markdown",
   "metadata": {},
   "source": [
    "Conditionals:"
   ]
  },
  {
   "cell_type": "markdown",
   "metadata": {},
   "source": [
    "$$ p(h_i=1 | v) = \\sigma\\left({1 \\over 2} v^T W_i \\alpha_i^{-1} W_i^Tv + v^TW_i \\mu_i - {1 \\over 2} v^T\\Phi_i v + b_i \\right) $$\n",
    "$$ p(s | v, h) = \\prod_{i=1}^N \\mathcal{N} \\left( (v^TW_i\\alpha_i^{-1} + \\mu_i) h_i, \\alpha_i^{-1} \\right) $$\n",
    "$$ p(v | s, h) = \\mathcal{N} \\left( C_{v|s,h}\\sum_{i=1}^N W_i s_i h_i, C_{v|s,h} ) \\right), \\quad C_{v|s,h} = \\left(\\Lambda + \\sum_{i=1}^N \\Phi_i h_i\\right)^{-1}$$"
   ]
  },
  {
   "cell_type": "code",
   "execution_count": 106,
   "metadata": {
    "collapsed": true
   },
   "outputs": [],
   "source": [
    "def sample_h_given_v(self, v):\n",
    "    \"\"\"\n",
    "    v ... visible of shape (batch_size, num_vis {D})\n",
    "    h ... spike hidden of shape (batch_size, num_hid {N}, spike_dim {1}) => (batch_size, num_hid {N})\n",
    "    sampling h ~ p(h_i=1|v) = sigm(0.5 v^TW_{i}\\alpha_i^{-1}W_{i}^Tv + b_i)\n",
    "    \"\"\"\n",
    "    vW = T.tensordot(v, self.W, axes=([1],[0])) # (batch_size, num_vis) x (num_vis, num_hid, num_slab) = (batch_size, num_hid, num_slab)\n",
    "    vW_sqr_b = 0.5 * T.sum(vW ** 2 / self.alpha[None], axis=-1) + self.b # (batch_size, num_hid)\n",
    "    vW_mu = T.sum(vW * self.mu.dimshuffle('x', 0, 1), axis=-1) # (batch_size, num_hid, num_slab) x ('x', num_hid, num_slab) = (batch_size, num_hid)\n",
    "    vPhiv = 0.5 * T.dot(v ** 2, self.Phi.T) # (batch_size, num_vis) x (num_vis, num_hid) = (batch_size, num_hid)\n",
    "    h_pre = vW_sqr_b + vW_mu - vPhiv\n",
    "    h_mean = T.nnet.sigmoid(h_pre)\n",
    "    h_samp = self.srng.binomial(size=h_mean.shape, n=1, p=h_mean,\n",
    "                                dtype=theano.config.floatX)\n",
    "    return [h_pre, h_mean, h_samp]\n",
    "\n",
    "def sample_s_given_v_h(self, v, h):\n",
    "    \"\"\"\n",
    "    v ... visible of shape (batch_size, num_vis {D})\n",
    "    h ... spike hidden of shape (batch_size, num_hid {N}, spike_dim {1}) => (batch_size, num_hid {N})\n",
    "    s ... slab hidden of shape (batch_size, num_hid {N}, slab_dim {K})\n",
    "    sampling s ~ p(s|v,h) = \\Prod_{i=1}^N N(h_i \\alpha_i^{-1}W^T_iv, \\alpha_i^{-1})\n",
    "    \"\"\"\n",
    "    vW = T.tensordot(v, self.W, axes=([1],[0])) # (batch_size, num_hid, num_slab)\n",
    "#     s_pre = (h.dimshuffle(0, 1, 'x') / self.alpha.dimshuffle('x', 0, 1)) *  vW\n",
    "    # (batch_size, num_hid, 'x') / ('x', num_hid, num_slab) = (batch_size, num_hid, num_slab)\n",
    "    s_var = self.alpha.dimshuffle('x',0)\n",
    "    s_mean = s_pre = h * (vW / s_var + self.mu.dimshuffle('x',0)) #  (batch_size, num_hid, num_slab) + ('x', num_hid, num_slab)\n",
    "    # mean-field approximation\n",
    "    samp = self.srng.normal(size=s_mean.shape, dtype=theano.config.floatX)\n",
    "    s_samp = samp / T.sqrt(s_var) + s_mean\n",
    "    return [s_pre, s_mean, s_samp]\n",
    "\n",
    "def sample_v_given_s_h(self, s, h):\n",
    "    \"\"\"\n",
    "    v ... visible of shape (batch_size, num_vis {D})\n",
    "    h ... spike hidden of shape (batch_size, num_hid {N}, spike_dim {1}) => (batch_size, num_hid {N})\n",
    "    s ... slab hidden of shape (batch_size, num_hid {N}, slab_dim {K})\n",
    "    sampling s ~ p(s|v,h) = \\Prod_{i=1}^N N(h_i \\alpha_i^{-1}W^T_iv, \\alpha_i^{-1})\n",
    "    \"\"\"\n",
    "    # hs ~ (batch_size, num_hid, 'x') * (batch_size, num_hid, slab_dim) = (batch_size, num_hid, num_slab)\n",
    "    # v_pre ~ (batch_size, 'x', num_hid, num_slab) * ('x', num_vis, num_hid, num_slab) = (batch_size, num_vis, num_hid, num_slab)\n",
    "    C = self.Lambda + T.dot(h, self.Phi) # (num_vis,) + (batch_size, num_hid) x (num_hid, num_vis) = (batch_size, num_vis)\n",
    "    Wsh = T.tensordot(h.dimshuffle(0,1,'x') * s, self.W, axes=([1,2], [1,2])) # (batch_size, num_vis) # T.sum(hs[:,None] * self.W[None], axis=(2,3))\n",
    "    v_mean = v_pre = Wsh / C # (batch_size, num_vis) / [batch_size, diag(num_vis,)] = (batch_size, num_vis)\n",
    "    samp = self.srng.normal(size=v_mean.shape, dtype=theano.config.floatX)\n",
    "    v_samp = samp / T.sqrt(C) + v_mean\n",
    "    return [v_pre, v_mean, v_samp]"
   ]
  },
  {
   "cell_type": "markdown",
   "metadata": {},
   "source": [
    "Free energy:  \n",
    "$$ F(v) = - \\log(p(v)) \\\\  \n",
    "= {1 \\over 2} v^T \\Lambda v - \\sum_{i=1}^N \\log \\left (1 + \\exp\\left(-{1 \\over 2} v^T C_{v|h_i}^{-1} v + v^T W_i \\mu_i + b_i \\right) \\right) - {1 \\over 2} \\sum_{i=1}^N \\sum_{j=1}^K \\log (2 \\pi \\alpha_{i, jj}^{-1}) + \\log Z \\\\\n",
    "= {1 \\over 2} v^T \\Lambda v - \\sum_{i=1}^N softplus \\left (-{1 \\over 2} v^T C_{v|h_i}^{-1} v + v^T W_i \\mu_i + b_i \\right) - {1 \\over 2} \\sum_{i=1}^N \\sum_{j=1}^K \\log (2 \\pi \\alpha_{i, jj}^{-1}) + \\log Z \\\\\n",
    "C_{v|h_i}^{-1} = \\left(\\Phi_i - W_i \\alpha_i^{-1}W_i^T\\right)$$"
   ]
  },
  {
   "cell_type": "code",
   "execution_count": 105,
   "metadata": {
    "collapsed": true
   },
   "outputs": [],
   "source": [
    "def free_energy_mu_spike_n_slab(self, v):\n",
    "    fe_vis_term = 0.5 * T.dot(v ** 2, self.Lambda) # (batch_size, num_vis) x (num_vis,) = (batch_size,...)\n",
    "    \n",
    "    fe_vW = T.tensordot(v, self.W, axes=([1],[0])) # (batch_size, num_vis) x (num_vis, num_hid, num_slab) = (batch_size, num_hid, num_slab)\n",
    "    fe_vW_sqr_b = 0.5 * T.sum(vW ** 2 / self.alpha.dimshuffle('x',0), axis=-1) + self.b # (batch_size, num_hid)\n",
    "    fe_vW_mu = T.sum(vW * self.mu.dimshuffle('x', 0, 1), axis=-1) # (batch_size, num_hid, num_slab) x ('x', num_hid, num_slab) = (batch_size, num_hid)\n",
    "    fe_vPhiv = 0.5 * T.dot(v ** 2, self.Phi.T) # (batch_size, num_vis) x (num_vis, num_hid) = (batch_size, num_hid)\n",
    "    fe_hid_pre = = vW_sqr_b + vW_mu - vPhiv # (batch_size, num_hid)\n",
    "    \n",
    "    fe_hid_term = T.nnet.softplus(fe_hid_pre).sum(axis=1) # (batch_size,...) # T.log(1 + T.exp(fe_hid_pre)).sum(axis=-1)\n",
    "    \n",
    "    fe_const_term = 0.5 * T.log(2 * np.pi * self.alpha).sum()\n",
    "    return fe_vis_term - fe_hid_term - const_term"
   ]
  },
  {
   "cell_type": "markdown",
   "metadata": {},
   "source": [
    "## Mean-Covariance RBM (mcRBM)"
   ]
  },
  {
   "cell_type": "code",
   "execution_count": null,
   "metadata": {
    "collapsed": true
   },
   "outputs": [],
   "source": [
    "C = shared(np.random.rand(num_vis, num_filt), allow_downcast=True)\n",
    "P = shared(np.random.rand(num_filt, num_hid_c), allow_downcast=True)\n",
    "W = shared(np.random.rand(num_vis, num_hid_m), allow_downcast=True)\n",
    "b_c = shared(np.random.rand(num_hid_c,), allow_downcast=True)\n",
    "b_m = shared(np.random.rand(num_hid_m,), allow_downcast=True)\n",
    "\n",
    "v = T.fmatrix('v') # (batch_size, num_vis)\n",
    "h_m = T.fmatrix('h_m') # (batch_size, num_hid_m)\n",
    "h_c = T.fmatrix('h_c') # (batch_size, num_hid_c)"
   ]
  },
  {
   "cell_type": "markdown",
   "metadata": {},
   "source": [
    "* needs a HMC sampler instead of the Gibb's one\n",
    "* needs to solve batchwise system of linear equations to evaluate batchwise matrix inversion"
   ]
  },
  {
   "cell_type": "code",
   "execution_count": null,
   "metadata": {
    "collapsed": true
   },
   "outputs": [],
   "source": [
    "import sys\n",
    "sys.path.append('/home/adrian/code/theano_wmf/')\n",
    "from theano_wmf import ops\n",
    "\n",
    "from theano.tensor.slinalg import solve as Tsolve\n",
    "from theano.tensor.nlinalg import pinv as Tpinv\n",
    "from scipy.linalg import solve, pinv\n",
    "import theano"
   ]
  },
  {
   "cell_type": "code",
   "execution_count": null,
   "metadata": {
    "collapsed": true
   },
   "outputs": [],
   "source": [
    "S = T.ftensor3('S')\n",
    "Wh = T.fmatrix('Wh')"
   ]
  },
  {
   "cell_type": "code",
   "execution_count": null,
   "metadata": {
    "collapsed": true
   },
   "outputs": [],
   "source": [
    "def batch_solve_expression(A_batch, B_batch):\n",
    "    Ainv_batch = ops.batched_inv(A_batch)\n",
    "    R_batch = ops.batched_dot(Ainv_batch, B_batch) # .dimshuffle(0,1,'x')) # need to turn the A vectors into single-row matrices for this\n",
    "    return R_batch # [:, :, 0] \n",
    "\n",
    "Tsolve = theano.function([S, Wh], batch_solve_expression(S, Wh[:,:,None])[:,:,0], allow_input_downcast=True)"
   ]
  },
  {
   "cell_type": "code",
   "execution_count": null,
   "metadata": {
    "collapsed": true
   },
   "outputs": [],
   "source": [
    "%%time\n",
    "theano_res = Tsolve(np.random.rand(100,500,500), np.random.rand(100,500))"
   ]
  },
  {
   "cell_type": "code",
   "execution_count": null,
   "metadata": {
    "collapsed": true
   },
   "outputs": [],
   "source": [
    "%%time\n",
    "theano_res2 = Tsolve(np.random.rand(20,784,784), np.random.rand(20,784))"
   ]
  },
  {
   "cell_type": "markdown",
   "metadata": {},
   "source": [
    "Energy function:  \n",
    "$$ E^{mc}(v, h^c, h^m) = E^{c}(v, h^c) + E^m(v, h^m)$$  \n",
    "$$ E^{c}(v, h^c) = - {1 \\over 2} \\left({v^T \\over \\| v \\|} C \\text{ diag }\\left(\\{\\| C_{:,k} \\|\\}_{k=1}^N\\right)^{-1}\\right)^2 P h^c  - b_c^T h^c + {1 \\over 2} v^Tv$$\n",
    "$$ E^m(v, h^m) = - v^TWh^m - v^Tb_m$$  "
   ]
  },
  {
   "cell_type": "markdown",
   "metadata": {},
   "source": [
    "Visible distribution:  \n",
    "$$p(v, h^c, h^m) \\propto \\exp\\left(- E(v, h^c, h^m)\\right)$$  \n",
    "$$ p(v) \\propto \\sum\\limits_{h^c, h^m} \\exp\\left(- E(v, h^c, h^m) \\right) $$"
   ]
  },
  {
   "cell_type": "markdown",
   "metadata": {},
   "source": [
    "Conditionals:  \n",
    "$$ p(h^m | v) = \\sigma\\left( v^T W + b_v \\right ) $$\n",
    "$$ p(h^c | v) = \\sigma\\left( {1 \\over 2} \\left({v^T \\over \\| v \\|} C \\text{ diag }\\left(\\{\\| C_{:,k} \\|\\}_{k=1}^N\\right)^{-1}\\right)^2 P + b_c - {1 \\over 2} v^T v\\right)$$\n",
    "$$ p(v | h^m, h^c) = N\\left(\\Sigma (W h^c), \\Sigma \\right), \\quad \\Sigma = C \\text{ diag } (P h^c) C^T)^{-1}$$"
   ]
  },
  {
   "cell_type": "code",
   "execution_count": null,
   "metadata": {
    "collapsed": true
   },
   "outputs": [],
   "source": [
    "def sample_hm_given_v(self, v):\n",
    "    \"\"\"\n",
    "    v ... visible of shape (batch_size, num_vis {D})\n",
    "    h ... hidden of shape (batch_size, num_hid {N}, spike_dim {1}) => (batch_size, num_hid {N})\n",
    "    sampling h ~ p(h_i=1|v) = sigm(0.5 v^TW_{i}\\alpha_i^{-1}W_{i}^Tv + b_i)\n",
    "    \"\"\"\n",
    "    h_pre = v.dot(self.W) + self.b_m # (batch_size, num_hid_m)\n",
    "    h_mean = T.nnet.sigmoid(h_pre)\n",
    "    h_samp = self.srng.binomial(size=h_mean.shape, n=1, p=h_mean,\n",
    "                                dtype=theano.config.floatX)\n",
    "    return [h_pre, h_mean, h_samp]\n",
    "\n",
    "def sample_hc_given_v(self, v):\n",
    "    \"\"\"\n",
    "    v ... visible of shape (batch_size, num_vis {D})\n",
    "    h ... spike hidden of shape (batch_size, num_hid {N}, spike_dim {1}) => (batch_size, num_hid {N})\n",
    "    sampling h ~ p(h_i=1|v) = sigm(0.5 v^TW_{i}\\alpha_i^{-1}W_{i}^Tv + b_i)\n",
    "    \"\"\"\n",
    "    h_pre = 0.5 * (v.dot(self.C)**2).dot(self.P) + self.b_c # (batch_size, num_hid_c)\n",
    "    h_mean = T.nnet.sigmoid(h_pre)\n",
    "    h_samp = self.srng.binomial(size=h_mean.shape, n=1, p=h_mean,\n",
    "                                dtype=theano.config.floatX)\n",
    "    return [h_pre, h_mean, h_samp]\n",
    "\n",
    "def sample_v_given_hm_hc(self, h_m, h_c):\n",
    "    \"\"\"\n",
    "    v ... visible of shape (batch_size, num_vis {D})\n",
    "    h ... spike hidden of shape (batch_size, num_hid {N}, spike_dim {1}) => (batch_size, num_hid {N})\n",
    "    s ... slab hidden of shape (batch_size, num_hid {N}, slab_dim {K})\n",
    "    sampling s ~ p(s|v,h) = \\Prod_{i=1}^N N(h_i \\alpha_i^{-1}W^T_iv, \\alpha_i^{-1})\n",
    "    \"\"\"\n",
    "    hP = h_c.dot(self.P.T)[:,None] # (batch_size, num_hid_c) x (num_hid_c, num_filt) = (batch_size, 'x', num_filt)\n",
    "    # [('x', num_vis, num_filt) * (batch_size, 'x', num_filt)] x (num_filt, num_vis) \n",
    "    Sigma = T.tensordot(self.C[None] * hP, self.C.T, axes=([-1], [0])) # (batch_size, num_vis, num_vis)\n",
    "    Wh_m = T.dot(h_m, self.W.T) # (batch_size, num_vis)\n",
    "    v_mean = v_pre = Tsolve(Sigma, Wh_m[:,:,None])[:,:,0] # (batch_size, num_vis, ...)\n",
    "    samp = self.srng.normal(size=v_mean.shape, dtype=theano.config.floatX)\n",
    "    v_samp = Tsolve(T.sqrt(Sigma), samp[:,:,None])[:,:,0] + v_mean \n",
    "    return [v_pre, v_mean, v_samp]"
   ]
  },
  {
   "cell_type": "markdown",
   "metadata": {},
   "source": [
    "Free energy:  \n",
    "$$ F(v) = - \\log p(v) = − \\sum\\limits_{k} \\log\\left(1 + \\exp\\left( {1 \\over 2} (v^T C_{:,k})^2 P \\right) + b^c_k \\right) −\n",
    "\\sum\\limits_{j} \\log\\left(1 + \\exp\\left(v^T W_{:,j} + b^m_j \\right) \\right) $$"
   ]
  },
  {
   "cell_type": "markdown",
   "metadata": {},
   "source": [
    "Authors description of the HMC sampling procedure:  \n",
    "\"HMC draws a sample by simulating a particle moving on\n",
    "this free energy surface. The particle starts at the data-point\n",
    "and is given an initial random momentum sampled from a\n",
    "spherical Gaussian with unit variance. It then moves over\n",
    "the surface using the gradient of the free energy to determine\n",
    "its acceleration. If the simulation is accurate, the sum\n",
    "of the potential and kinetic energies will not change and the\n",
    "results of the simulation can be accepted. If the total energy\n",
    "rises during the simulation, the result is accepted with\n",
    "a probability equal to the negative exponential of the total\n",
    "energy increase. Numerical errors can be reduced by using\n",
    "“leapfrog” steps. After simulating the trajectory\n",
    "for a number of leapfrog steps, the current momentum\n",
    "is discarded and a new momentum is sampled from a spherical\n",
    "Gaussian. This Markov chain will eventually sample\n",
    "from the correct distribution, but we only need to run it for\n",
    "a small fraction of the time this would take.\""
   ]
  },
  {
   "cell_type": "code",
   "execution_count": null,
   "metadata": {
    "collapsed": true
   },
   "outputs": [],
   "source": [
    "def free_energy_mean(self, v):\n",
    "    fe_m_pre = v.dot(self.W) + self.b_m\n",
    "    return - T.sum(T.softplus(fe_m_pre), axis=-1) # (batch_size,)\n",
    "\n",
    "def free_energy_cov(self, v):\n",
    "    v_norm = T.sum(v**2, axis=-1)\n",
    "    C_norm = T.sum(self.C**2)\n",
    "    C_normed = C / C_norm\n",
    "    v_normed = v / v_norm\n",
    "    fe_c_pre = 0.5 * (v_normed.dot(C_normed)**2).dot(self.P) + self.b_c + 0.5 * v_norm\n",
    "    return - T.sum(T.softplus(fe_c_pre), axis=-1) # (batch_size,)\n",
    "\n",
    "def free_energy(self, v):\n",
    "    fe_m_term = self.free_energy_mean(v)\n",
    "    fe_c_term = self.free_energy_cov(v)\n",
    "    return fe_c_term + fe_m_term"
   ]
  },
  {
   "cell_type": "markdown",
   "metadata": {},
   "source": [
    "The algorithm:  \n",
    "1) compute the gradient of the free energy at the training samples  \n",
    "2) get samples by using CD with HMC  \n",
    "3) compute the gradient of the free energy at the HMC samples  \n",
    "4) update the parameters by taking the difference of the gradients"
   ]
  },
  {
   "cell_type": "markdown",
   "metadata": {},
   "source": [
    "References:  \n",
    "http://www.cs.toronto.edu/~fritz/absps/ranzato_cvpr2010.pdf"
   ]
  },
  {
   "cell_type": "markdown",
   "metadata": {},
   "source": [
    "## Mean Product of Student t's (mPoT)"
   ]
  },
  {
   "cell_type": "code",
   "execution_count": 15,
   "metadata": {
    "collapsed": false
   },
   "outputs": [],
   "source": [
    "C = shared(np.random.rand(num_vis, num_hid_c))\n",
    "W = shared(np.random.rand(num_vis, num_hid_m))\n",
    "gamma = shared(np.zeros(num_hid_c,))"
   ]
  },
  {
   "cell_type": "markdown",
   "metadata": {},
   "source": [
    "Energy function:  \n",
    "$$ E^{mPoT}(v, h^c, h^m) = E^{PoT}(v, h^c) + E^m(v, h^m)$$  \n",
    "$$ E^{PoT}(v, h^c) = \\left(1 + {1 \\over 2}(v^T C)^2\\right)P h^c + (1-\\gamma)^T\\log h^c$$\n",
    "$$ E^m(v, h^m) = {1 \\over 2} v^Tv - v^TWh^m - b^T_m h^m - v^T b_v$$  "
   ]
  },
  {
   "cell_type": "markdown",
   "metadata": {},
   "source": [
    "Visible distribution (recipe for extending any distribution by including hidden variables):  \n",
    "$$ p(v, h^c, h^m) \\propto \\exp\\left(-E^{mPoT}(v, h^c, h^m) \\right) $$  \n",
    "$$ p(v) \\propto \\left( 1 + {1 \\over 2} (v^T C)^2 \\right)^{-\\gamma} = \\exp \\left( -\\log(1 + {1 \\over 2} (v^T C)^2)^T \\gamma \\right) \\\\ \n",
    "= \\sum_{h^m \\in \\{0,1\\}^N} \\int_{-\\infty}^\\infty \\exp\\left(-E^{mPoT}(v, h^c, h^m) \\right) \\mathrm{d}h^c$$"
   ]
  },
  {
   "cell_type": "markdown",
   "metadata": {},
   "source": [
    "Conditionals:  \n",
    "$$ p(h^m | v) = \\sigma(v^T W + b_m)$$\n",
    "$$ p(h^c | v) = \\Gamma \\left(\\alpha=\\gamma, \\beta=1 + {1 \\over 2} (v^T C)^2 P \\right) \n",
    "=> E[h^c | v] = {\\alpha \\over \\beta} = {\\gamma \\over 1 + {1 \\over 2} (v^T C)^2 P}$$\n",
    "$$ p(v | h^m, h^c) = N \\left( \\Sigma(W h^m + b_v), \\Sigma \\right), \\quad \\Sigma^{-1} = C \\text{ diag } (P h^c) C^T$$"
   ]
  },
  {
   "cell_type": "markdown",
   "metadata": {},
   "source": [
    "Free energy:\n",
    "$$ F(v) = - \\log p(v) = \\sum\\limits^N_{j=1} \\log\\left(1 + {1 \\over 2} \\left(v^T C \\right)^2 P_{:,j} \\right) + {1 \\over 2} v^T v - \\sum\\limits^M_{k=1} \\log\\left(1 + \\exp\\left(v^T W_{:,k} + b^m_{k} \\right) \\right) - v^Tb_v$$"
   ]
  },
  {
   "cell_type": "code",
   "execution_count": 20,
   "metadata": {
    "collapsed": false
   },
   "outputs": [],
   "source": [
    "# HMC sampling:  \n",
    "def draw_sample(datainit, param, layer): # only 1 M.C. step\n",
    "    if layer == 1: # 1st layer: do 1 step of HMC\n",
    "        velocity = np.random.randn()\n",
    "        tot_energy1 = .5*velocity**2 + compute_F(datainit,param)\n",
    "        data = datainit\n",
    "        velocity = velocity - eps * compute_dFdX(data,param)/2\n",
    "        for iter in range(20): # 20 leap-frog steps\n",
    "            data = data + eps * velocity\n",
    "            if iter != 19:\n",
    "                velocity = velocity - eps * compute_dFdX(data,param)\n",
    "        velocity = velocity - eps * compute_dFdX(data,param)\n",
    "        tot_energy2 = .5*velocity**2 + compute_F(data,param)\n",
    "        if rand() < exp(tot_energy1 - tot_energy2):\n",
    "            return data # accept sample\n",
    "        else:\n",
    "            return datainit # reject sample\n",
    "    else: # higher layers: do 1 step of Gibbs\n",
    "        hiddens = sample_posterior(datainit,param) # p(h|x)\n",
    "        return sample_inputs(hiddens,param) # p(x|h)"
   ]
  },
  {
   "cell_type": "markdown",
   "metadata": {},
   "source": [
    "Reference:  \n",
    "http://www.cs.toronto.edu/~fritz/absps/PoT.pdf (PoT)  \n",
    "http://www.cs.toronto.edu/~fritz/absps/mcimage.pdf  \n",
    "https://www.cs.toronto.edu/~vmnih/docs/ranzato_pami13.pdf (extended version)"
   ]
  },
  {
   "cell_type": "markdown",
   "metadata": {},
   "source": [
    "## Gamma sampler"
   ]
  },
  {
   "cell_type": "markdown",
   "metadata": {},
   "source": [
    "https://github.com/benanne/morb/blob/master/morb/samplers.py  \n",
    "https://groups.google.com/forum/#!topic/theano-users/ytqep8AickA"
   ]
  },
  {
   "cell_type": "code",
   "execution_count": 223,
   "metadata": {
    "collapsed": true
   },
   "outputs": [],
   "source": [
    "## approximate gamma sampler\n",
    "# Two approximations for the gamma function are defined.\n",
    "# Windschitl is very fast, but problematic close to 0, and using the reflection formula\n",
    "# causes discontinuities.\n",
    "# Lanczos on the other hand is extremely accurate, but slower.\n",
    "   \n",
    "def _log_gamma_windschitl(z):\n",
    "    \"\"\"\n",
    "    computes log(gamma(z)) using windschitl's approximation.\n",
    "    \"\"\"\n",
    "    return 0.5 * (T.log(2*np.pi) - T.log(z)  + z * (2 * T.log(z) - 2 + T.log(z * T.sinh(1/z) + 1 / (810*(z**6)))))\n",
    "    \n",
    "def _log_gamma_ratio_windschitl(z, k):\n",
    "    \"\"\"\n",
    "    computes log(gamma(z+k)/gamma(z)) using windschitl's approximation.\n",
    "    \"\"\"\n",
    "    return _log_gamma_windschitl(z + k) - _log_gamma_windschitl(z)\n",
    "    \n",
    "\n",
    "def _log_gamma_lanczos(z):\n",
    "    # optimised by nouiz. thanks!\n",
    "    assert z.dtype.startswith(\"float\")\n",
    "    # reflection formula. Normally only used for negative arguments,\n",
    "    # but here it's also used for 0 < z < 0.5 to improve accuracy in\n",
    "    # this region.\n",
    "    flip_z = 1 - z\n",
    "    # because both paths are always executed (reflected and\n",
    "    # non-reflected), the reflection formula causes trouble when the\n",
    "    # input argument is larger than one.\n",
    "    # Note that for any z > 1, flip_z < 0.\n",
    "    # To prevent these problems, we simply set all flip_z < 0 to a\n",
    "    # 'dummy' value. This is not a problem, since these computations\n",
    "    # are useless anyway and are discarded by the T.switch at the end\n",
    "    # of the function.\n",
    "    flip_z = T.switch(flip_z < 0, 1, flip_z)\n",
    "    log_pi = np.asarray(np.log(np.pi), dtype=z.dtype)\n",
    "    small = log_pi - T.log(T.sin(np.pi * z)) - _log_gamma_lanczos_sub(flip_z)\n",
    "    big = _log_gamma_lanczos_sub(z)\n",
    "    return T.switch(z < 0.5, small, big)\n",
    "\n",
    "\n",
    "def _log_gamma_lanczos_sub(z): # expanded version\n",
    "    # optimised by nouiz. thanks!\n",
    "    # Coefficients used by the GNU Scientific Library\n",
    "    # note that vectorising this function and using .sum() turns out to be\n",
    "    # really slow! possibly because the dimension across which is summed is\n",
    "    # really small.\n",
    "    g = 7\n",
    "    p = np.array([0.99999999999980993, 676.5203681218851, -1259.1392167224028,\n",
    "                  771.32342877765313, -176.61502916214059, 12.507343278686905,\n",
    "                  -0.13857109526572012, 9.9843695780195716e-6,\n",
    "                  1.5056327351493116e-7], dtype=z.dtype)\n",
    "    z = z - 1\n",
    "    x = p[0]\n",
    "    for i in range(1, g + 2):\n",
    "        x += p[i] / (z + i)\n",
    "    t = z + g + 0.5\n",
    "    pi = np.asarray(np.pi, dtype=z.dtype)\n",
    "    log_sqrt_2pi = np.asarray(np.log(np.sqrt(2 * np.pi)), dtype=z.dtype)\n",
    "    return log_sqrt_2pi + (z + 0.5) * T.log(t) - t + T.log(x)\n",
    "\n",
    "    \n",
    "def _log_gamma_ratio_lanczos(z, k):\n",
    "    \"\"\"\n",
    "    computes log(gamma(z+k)/gamma(z)) using the lanczos approximation.\n",
    "    \"\"\" \n",
    "    return _log_gamma_lanczos(z + k) - _log_gamma_lanczos(z)\n",
    "    \n",
    " \n",
    "def gamma_approx(k, theta=1):\n",
    "    \"\"\"\n",
    "    Sample from a gamma distribution using the Wilson-Hilferty approximation.\n",
    "    The gamma function itself is also approximated, so everything can be\n",
    "    computed on the GPU (using the Lanczos approximation).\n",
    "    \"\"\"\n",
    "    lmbda = 1/3.0 # according to Wilson and Hilferty\n",
    "    mu = T.exp(_log_gamma_ratio_lanczos(k, lmbda))\n",
    "    sigma = T.sqrt(T.exp(_log_gamma_ratio_lanczos(k, 2*lmbda)) - mu**2)\n",
    "    normal_samples = theano_rng.normal(size=k.shape, avg=mu, std=sigma, dtype=theano.config.floatX)\n",
    "    gamma_samples = theta * T.abs_(normal_samples ** 3)\n",
    "    # The T.abs_ is technically incorrect. The problem is that, without it, this formula may yield\n",
    "    # negative samples, which is impossible for the gamma distribution.\n",
    "    # It was also noted that, for very small values of the shape parameter k, the distribution\n",
    "    # of resulting samples is roughly symmetric around 0. By 'folding' the negative part\n",
    "    # onto the positive part, we still get a decent approximation because of this.\n",
    "    return gamma_samples"
   ]
  },
  {
   "cell_type": "code",
   "execution_count": null,
   "metadata": {
    "collapsed": true
   },
   "outputs": [],
   "source": [
    "def sample_hm_given_v(self, v):\n",
    "    \"\"\"\n",
    "    v ... visible of shape (batch_size, num_vis {D})\n",
    "    h ... hidden of shape (batch_size, num_hid {N}, spike_dim {1}) => (batch_size, num_hid {N})\n",
    "    sampling h ~ p(h_i=1|v) = sigm(0.5 v^TW_{i}\\alpha_i^{-1}W_{i}^Tv + b_i)\n",
    "    \"\"\"\n",
    "    h_pre = v.dot(self.W) + self.b_m # (batch_size, num_hid_m)\n",
    "    h_mean = T.nnet.sigmoid(h_pre)\n",
    "    h_samp = self.srng.binomial(size=h_mean.shape, n=1, p=h_mean,\n",
    "                                dtype=theano.config.floatX)\n",
    "    return [h_pre, h_mean, h_samp]\n",
    "\n",
    "def sample_hc_given_v(self, v):\n",
    "    \"\"\"\n",
    "    v ... visible of shape (batch_size, num_vis {D})\n",
    "    h ... spike hidden of shape (batch_size, num_hid {N}, spike_dim {1}) => (batch_size, num_hid {N})\n",
    "    sampling h ~ p(h_i=1|v) = sigm(0.5 v^TW_{i}\\alpha_i^{-1}W_{i}^Tv + b_i)\n",
    "    \"\"\"\n",
    "    # Gamma sampler\n",
    "    alpha = self.gamma # (num_hid_c,)\n",
    "    beta = 1 + 0.5 * (v.dot(C)**2) # (batch_size, num_hid_c)\n",
    "    k = alpha\n",
    "    theta = 1 / beta\n",
    "    h_mean = k * theta # alpha / beta\n",
    "    h_samp = gamma_approx(k, theta) # k == alpha, theta == 1/beta\n",
    "    return [None, h_mean, h_samp]\n",
    "\n",
    "def sample_v_given_hm_hc(self, h_m, h_c):\n",
    "    \"\"\"\n",
    "    v ... visible of shape (batch_size, num_vis {D})\n",
    "    h_m ... mean hidden of shape (batch_size, num_hid {N})\n",
    "    h_c ... cov hidden of shape (batch_size, num_hid {N})\n",
    "    sampling v ~ p(v|h_m,h_c) = \n",
    "    \"\"\"\n",
    "    ChC = T.tensordot(self.C[None] * h_c[:,None], self.C.T, axes=([-1], [0])) \n",
    "    # ('x', num_vis, num_hid_c) * (batch_size, 'x', diag(num_hid_c)) x (num_hid_c, num_vis) = (batch_size, num_vis, num_vis)\n",
    "    Sigma_c = theano.scan(lambda x: T_inv(x), ChC) \n",
    "    Sigma = Sigma_c + T.eye(m=C.shape[0])[None] # (batch_size, num_vis, num_vis)\n",
    "    Wh_m = T.dot(h_m, self.W.T) # (batch_size, num_hid_m) x (num_hid_m, num_vis) = (batch_size, num_vis)\n",
    "    v_mean = v_pre = Tsolve(Sigma, Wh_m[:,:,None])[:,:,0] # (batch_size, num_vis, ...)\n",
    "    # (batch_size, num_vis, num_vis)^-1 x (batch_size, num_vis, 'x') = (batch_size, num_vis)\n",
    "    samp = self.srng.normal(size=v_mean.shape, dtype=theano.config.floatX)\n",
    "    v_samp = Tsolve(T.sqrt(Sigma), samp[:,:,None])[:,:,0] + v_mean \n",
    "    return [v_pre, v_mean, v_samp]"
   ]
  },
  {
   "cell_type": "code",
   "execution_count": null,
   "metadata": {
    "collapsed": true
   },
   "outputs": [],
   "source": [
    "def free_energy_pot_mean(self, v):\n",
    "    fe_m_pre = v.dot(self.W) + self.b_m\n",
    "    return - T.sum(T.softplus(fe_m_pre), axis=-1) # (batch_size,)\n",
    "\n",
    "def free_energy_pot_cov(self, v):\n",
    "    v_norm = T.sum(v**2, axis=-1) # (batch_size,)\n",
    "    fe_c_pre = 1 + 0.5 * (v.dot(C)**2) # (batch_size, num_hid_c)\n",
    "    return T.sum(T.log(fe_c_pre) * self.gamma, axis=-1) + 0.5 * v_norm # (batch_size,)\n",
    "\n",
    "def free_energy(self, v):\n",
    "    fe_m_term = self.free_energy_mean(v)\n",
    "    fe_c_term = self.free_energy_cov(v)\n",
    "    return fe_c_term + fe_m_term"
   ]
  }
 ],
 "metadata": {
  "kernelspec": {
   "display_name": "Python 2",
   "language": "python",
   "name": "python2"
  },
  "language_info": {
   "codemirror_mode": {
    "name": "ipython",
    "version": 2
   },
   "file_extension": ".py",
   "mimetype": "text/x-python",
   "name": "python",
   "nbconvert_exporter": "python",
   "pygments_lexer": "ipython2",
   "version": "2.7.6"
  }
 },
 "nbformat": 4,
 "nbformat_minor": 0
}
