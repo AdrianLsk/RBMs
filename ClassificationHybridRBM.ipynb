{
 "cells": [
  {
   "cell_type": "markdown",
   "metadata": {},
   "source": [
    "## Classification RBM (ClassRBM)"
   ]
  },
  {
   "cell_type": "markdown",
   "metadata": {},
   "source": [
    "Energy function:  \n",
    "$$E(v,h) = - v^T W h - b_h^T h - v^T b_v - e_y^T U h - e_y^T d_y$$"
   ]
  },
  {
   "cell_type": "markdown",
   "metadata": {},
   "source": [
    "Visible distribution:  \n",
    "$$p(v, y, h) \\propto \\exp\\left(- E(v, y, h)\\right)$$  \n",
    "$$ p(v, y) = \\frac{e^{-F(v,y}} {Z} \\Rightarrow p(y|v) = \\frac{e^{-F(v,y}} {\\sum\\limits_{y'} e^{-F(v,y')}} = softmax \\left(F(v, y)\\right) $$"
   ]
  },
  {
   "cell_type": "markdown",
   "metadata": {},
   "source": [
    "Conditionals:  \n",
    "$$p(v|h) = \\prod_i p(v_i |h) \\Rightarrow p(v_i = 1|h) = \\sigma(W_{i,:} h + b_{v, i}) \\\\\n",
    "p(y|h) = \\frac{\\exp ( U_{y,:}h + d_y ) } {\\sum\\limits_{y'} \\exp ( U_{y',:}h + d_y' ) } = softmax(U_{y,:}h + d_y) \\\\\n",
    "p(h|y, v) = \\prod_j p(h_j | y, v) \\Rightarrow p(h_j = 1|y, v) = \\sigma(v^T W_{:,j} + U_{yj} + b_{h,j})$$"
   ]
  },
  {
   "cell_type": "markdown",
   "metadata": {},
   "source": [
    "Free energy:\n",
    "$$ F(v, y) = - \\log(p(v, y)) = - \\log\\left(\\sum\\limits_{h \\in \\{0,1\\}^N} e^{-E(v, y, h)} \\right) + \\log Z \n",
    "= - \\log\\left(\\sum\\limits_{h_1 \\in \\{0,1\\}} e^{-E(v, y, h_1)} \\dots \n",
    "\\sum\\limits_{h_N \\in \\{0,1\\}} e^{-E(v, y, h_N)}\\right) + \\log Z \\\\\n",
    "= - \\log \\prod_{j=1}^N \\left( \\sum\\limits_{h_j \\in \\{0,1\\}} e^{-E(v, y, h_j)} \\right) + \\log Z \n",
    "= - \\sum_{j=1}^N \\log \\left( 1 + \\exp(- v^T W_{:,j} - b_h^j) \\right) + d_y + \\log Z \\\\ \n",
    "= - \\sum_{j=1}^N softplus \\left(v^T W_{:,j} + b_h^j\\right) + d_y + \\log Z$$"
   ]
  },
  {
   "cell_type": "markdown",
   "metadata": {},
   "source": [
    "Cost for $D^{lab} = \\{v, y \\}$: \n",
    "$$ \\mathcal{L^{discr}} = - \\sum_{D^{lab}} \\log p(y|v) = - \\sum_{D^{lab}} \\log \\left( softmax (F(v, y)) \\right)$$"
   ]
  },
  {
   "cell_type": "markdown",
   "metadata": {},
   "source": [
    "## Hybrid RBM (HRBM)"
   ]
  },
  {
   "cell_type": "markdown",
   "metadata": {},
   "source": [
    "Cost:  \n",
    "$$ \\mathcal{L^{hybrid}} = \\mathcal{L^{discr}} + \\alpha \\mathcal{L^{unlab}} \\\\\n",
    "= - \\sum_{D^{lab}} \\log p(y|v) - \\alpha \\sum_{D^{unlab}} \\log p(v) $$"
   ]
  },
  {
   "cell_type": "markdown",
   "metadata": {},
   "source": [
    "References:  \n",
    "http://www.cs.toronto.edu/~larocheh/publications/drbm-mitacs-poster.pdf  \n",
    "http://machinelearning.org/archive/icml2008/papers/601.pdf  \n",
    "http://www.jmlr.org/papers/volume13/larochelle12a/larochelle12a.pdf"
   ]
  }
 ],
 "metadata": {
  "kernelspec": {
   "display_name": "Python 2",
   "language": "python",
   "name": "python2"
  },
  "language_info": {
   "codemirror_mode": {
    "name": "ipython",
    "version": 2
   },
   "file_extension": ".py",
   "mimetype": "text/x-python",
   "name": "python",
   "nbconvert_exporter": "python",
   "pygments_lexer": "ipython2",
   "version": "2.7.6"
  }
 },
 "nbformat": 4,
 "nbformat_minor": 0
}
