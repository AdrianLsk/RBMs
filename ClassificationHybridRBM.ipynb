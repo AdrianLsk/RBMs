{
 "cells": [
  {
   "cell_type": "markdown",
   "metadata": {},
   "source": [
    "## Classification RBM (ClassRBM)"
   ]
  },
  {
   "cell_type": "markdown",
   "metadata": {},
   "source": [
    "Conditionals:\n",
    "$$ p(h_i=1 | v) = \\sigma\\left({1 \\over 2} v^T W_i \\alpha_i^{-1} W_i^Tv + b_i \\right) $$\n",
    "$$ p(s | v, h) = \\prod_{i=1}^N \\mathcal{N} \\left( h_i \\alpha_i^{-1} W_i^Tv, \\alpha_i^{-1} \\right) $$\n",
    "$$ p(v | s, h) = \\mathcal{N} \\left( \\Lambda^{-1} \\sum_{i=1}^N W_i s_i h_i, \\Lambda^{-1} \\right)$$"
   ]
  },
  {
   "cell_type": "markdown",
   "metadata": {},
   "source": [
    "Energy function:  \n",
    "$$E(v, s, h) = {1 \\over 2} v^T \\Lambda v - \\sum^N_{i=1} \\left(v^T W_i s_i h_i - {1 \\over 2} s_i^T \\alpha_i s_i + b_i h_i \\right)$$"
   ]
  },
  {
   "cell_type": "markdown",
   "metadata": {},
   "source": [
    "Visible distribution:  \n",
    "$$p(v, s, h) \\propto \\exp\\left(- E(v, s, h)\\right)$$  \n",
    "$$p(v) \\propto \\sum_{h \\in \\{0,1\\}} \\int_{-\\infty}^\\infty \\exp\\left(- E(v, s, h)\\right) \\mathrm{d}s \\\\\n",
    "= \\int_{-\\infty}^\\infty \\exp\\left( - {1 \\over 2} v^T \\Lambda v \\right) \\prod_{i=1}^N \\sum_{h_i \\in \\{0,1\\}} \\exp\\left(v^T W_i s_i h_i - {1 \\over 2} s_i^T \\alpha_i s_i + b_i h_i \\right) \\mathrm{d}s \\\\  \n",
    "= \\exp\\left( - {1 \\over 2} v^T \\Lambda v \\right) \\prod_{i=1}^N \\sum_{h_i \\in \\{0,1\\}} \\exp\\left( b_i h_i \\right) \\int_{-\\infty}^\\infty \\exp\\left(v^T W_i s_i h_i - {1 \\over 2} s_i^T \\alpha_i s_i \\right) \\mathrm{d}s \\\\ \n",
    "= \\exp\\left( - {1 \\over 2} v^T \\Lambda v \\right) \\prod_{i=1}^N \\sum_{h_i \\in \\{0,1\\}} \\exp\\left( b_i h_i \\right) \\int_{-\\infty}^\\infty \\exp\\left({1 \\over 2} \\left|\\left| v^T W_i h_i \\alpha_i^{-{1 \\over 2}} \\right|\\right|^2\\right) \\exp\\left( - {1 \\over 2} \\left|\\left| x_i - v^T W_i h_i \\alpha_i^{-{1 \\over 2}} \\right|\\right|^2 \\right) \\mathrm{d}s \\\\ \n",
    "= \\exp\\left( - {1 \\over 2} v^T \\Lambda v \\right) \\prod_{i=1}^N \\sum_{h_i \\in \\{0,1\\}}\\exp\\left({1 \\over 2} \\left|\\left| v^T W_i h_i \\alpha_i^{-{1 \\over 2}} \\right|\\right|^2 + b_i h_i \\right) (2 \\pi)^{{K \\over 2}} det (\\alpha_i^{-{1 \\over 2}}) \\\\  \n",
    "= \\exp\\left( - {1 \\over 2} v^T \\Lambda v \\right) \\prod_{i=1}^N \\left[1 + \\log\\left({1 \\over 2} v^T W_i \\alpha_i^{-1} W_i^T v + b_i \\right) \\right] \\prod_{i=1}^N \\prod_{j=1}^K \\left(2 \\pi \\alpha_{i, jj}^{-1} \\right)^{{1 \\over 2}}$$"
   ]
  },
  {
   "cell_type": "markdown",
   "metadata": {},
   "source": [
    "Free energy:\n",
    "$$ F(v) = - \\log(p(v)) \\\\  \n",
    "\\propto {1 \\over 2} v^T \\Lambda v - \\sum_{i=1}^N \\log \\left (1 + \\exp\\left({1 \\over 2} v^T W_i \\alpha_i^{-1} W_i^T v + b_i \\right) \\right) - {1 \\over 2} \\sum_{i=1}^N \\sum_{j=1}^K \\log (2 \\pi \\alpha_{i, jj}^{-1}) + \\log Z \\\\\n",
    "= {1 \\over 2} v^T \\Lambda v - \\sum_{i=1}^N softplus \\left ({1 \\over 2} v^T W_i \\alpha_i^{-1} W_i^T v + b_i \\right) - {1 \\over 2} \\sum_{i=1}^N \\sum_{j=1}^K \\log (2 \\pi \\alpha_{i, jj}^{-1}) + \\log Z$$"
   ]
  },
  {
   "cell_type": "markdown",
   "metadata": {},
   "source": [
    "## Hybrid RBM (HRBM)"
   ]
  },
  {
   "cell_type": "markdown",
   "metadata": {},
   "source": [
    "Conditionals:\n",
    "$$ p(h_i=1 | v) = \\sigma\\left({1 \\over 2} v^T W_i \\alpha_i^{-1} W_i^Tv + b_i \\right) $$\n",
    "$$ p(s | v, h) = \\prod_{i=1}^N \\mathcal{N} \\left( h_i \\alpha_i^{-1} W_i^Tv, \\alpha_i^{-1} \\right) $$\n",
    "$$ p(v | s, h) = \\mathcal{N} \\left( \\Lambda^{-1} \\sum_{i=1}^N W_i s_i h_i, \\Lambda^{-1} \\right)$$"
   ]
  },
  {
   "cell_type": "markdown",
   "metadata": {},
   "source": [
    "Energy function:  \n",
    "$$E(v, s, h) = {1 \\over 2} v^T \\Lambda v - \\sum^N_{i=1} \\left(v^T W_i s_i h_i - {1 \\over 2} s_i^T \\alpha_i s_i + b_i h_i \\right)$$"
   ]
  },
  {
   "cell_type": "markdown",
   "metadata": {},
   "source": [
    "Visible distribution:  \n",
    "$$p(v, s, h) \\propto \\exp\\left(- E(v, s, h)\\right)$$"
   ]
  },
  {
   "cell_type": "markdown",
   "metadata": {},
   "source": [
    "Free energy:\n",
    "$$ F(v) = - \\log(p(v)) \\\\  \n",
    "\\propto {1 \\over 2} v^T \\Lambda v - \\sum_{i=1}^N \\log \\left (1 + \\exp\\left({1 \\over 2} v^T W_i \\alpha_i^{-1} W_i^T v + b_i \\right) \\right) - {1 \\over 2} \\sum_{i=1}^N \\sum_{j=1}^K \\log (2 \\pi \\alpha_{i, jj}^{-1}) + \\log Z \\\\\n",
    "= {1 \\over 2} v^T \\Lambda v - \\sum_{i=1}^N softplus \\left ({1 \\over 2} v^T W_i \\alpha_i^{-1} W_i^T v + b_i \\right) - {1 \\over 2} \\sum_{i=1}^N \\sum_{j=1}^K \\log (2 \\pi \\alpha_{i, jj}^{-1}) + \\log Z$$"
   ]
  }
 ],
 "metadata": {
  "kernelspec": {
   "display_name": "Python 2",
   "language": "python",
   "name": "python2"
  },
  "language_info": {
   "codemirror_mode": {
    "name": "ipython",
    "version": 2
   },
   "file_extension": ".py",
   "mimetype": "text/x-python",
   "name": "python",
   "nbconvert_exporter": "python",
   "pygments_lexer": "ipython2",
   "version": "2.7.6"
  }
 },
 "nbformat": 4,
 "nbformat_minor": 0
}
